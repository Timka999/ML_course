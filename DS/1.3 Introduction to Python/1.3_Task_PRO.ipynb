{
 "cells": [
  {
   "cell_type": "code",
   "execution_count": 13,
   "metadata": {},
   "outputs": [
    {
     "name": "stdout",
     "output_type": "stream",
     "text": [
      "1 1 2 3 5 8 13 "
     ]
    }
   ],
   "source": [
    "# 1. Написать программу, которая будет выводить на экран числа Фибоначчи до заданного числа.\n",
    "#    На вход программе выдаётся натуральное N, программа выводит все числа Фибоначчи <= N \n",
    "\n",
    "def print_fibonacci(N: int):\n",
    "    if N <= 0:\n",
    "        print('Invalid input.')\n",
    "        return\n",
    "    a_1, a_2 = 1, 1\n",
    "    while a_1 <= N:\n",
    "        print(a_1, end = ' ')\n",
    "        a_1, a_2 = a_2, a_1 + a_2\n",
    "\n",
    "N = 15\n",
    "# альтернативно\n",
    "# N = int(input())\n",
    "print_fibonacci(N)"
   ]
  },
  {
   "cell_type": "code",
   "execution_count": 11,
   "metadata": {},
   "outputs": [
    {
     "name": "stdout",
     "output_type": "stream",
     "text": [
      "[2, 5, 7, 8]\n"
     ]
    }
   ],
   "source": [
    "# 2. Напишите программу, которая на вход принимает список чисел и возвращает \n",
    "#    только уникальные значения из этого списка.\n",
    "\n",
    "def unique_values(lst: list) -> list:\n",
    "    unique_list = list()\n",
    "    for element in lst:\n",
    "        if lst.count(element) == 1:\n",
    "            unique_list.append(element)\n",
    "            \n",
    "    return unique_list\n",
    "\n",
    "print(unique_values([1, 1, 2, 4, 5, 4, 6, 7, 8, 6]))\n",
    "\n",
    "# альтернативно\n",
    "# print(set([1, 1, 2, 4, 5, 4, 6, 7, 8, 6]))"
   ]
  },
  {
   "cell_type": "code",
   "execution_count": 32,
   "metadata": {},
   "outputs": [
    {
     "name": "stdout",
     "output_type": "stream",
     "text": [
      "Температура в Цельсиях 39.22222222222222\n"
     ]
    }
   ],
   "source": [
    "# 3. Напишите программу, которая переводит температуру в градусах Фаренгейта в градусы Цельсия.\n",
    "\n",
    "def far_to_cels(temp_fahr: float) -> float:\n",
    "    return (temp_fahr - 32)*5/9\n",
    "\n",
    "temp_far = 102.6\n",
    "print(f'Температура в Цельсиях {far_to_cels(temp_far)}')\n",
    "\n",
    "# альтернативно\n",
    "# print(f'Температура в Цельсиях {far_to_cels(float(input()))}')"
   ]
  },
  {
   "cell_type": "code",
   "execution_count": 4,
   "metadata": {},
   "outputs": [
    {
     "name": "stdout",
     "output_type": "stream",
     "text": [
      "False\n",
      "True\n",
      "True\n",
      "False\n",
      "\n",
      "\n",
      "False\n",
      "False\n",
      "True\n",
      "True\n"
     ]
    }
   ],
   "source": [
    "# 4. Напишите программу, которая проверяет, является ли строка палиндромом без использования стандартных методов.\n",
    " \n",
    "def is_palindrom(string: str) -> bool:\n",
    "    return string[::-1] == string\n",
    "\n",
    "# безразлично к регистру\n",
    "\n",
    "def is_palindrom_reg(string: str) -> bool:\n",
    "    return string.lower()[::-1] == string.lower()\n",
    "    \n",
    "    \n",
    "# безразлично к регистру и пробелам\n",
    "\n",
    "def is_palindrom_reg_space(string: str) -> bool:\n",
    "    # string = ''.join(string.split())\n",
    "    string = string.replace(' ', '')\n",
    "    return string.lower()[::-1] == string.lower()\n",
    "        \n",
    "\n",
    "print(is_palindrom('Заказ'))\n",
    "print(is_palindrom_reg('Заказ'))\n",
    "print(is_palindrom('заказ'))\n",
    "print(is_palindrom('заказ '))\n",
    "print('\\n')\n",
    "print(is_palindrom('А роза упала на лапу Азора'))\n",
    "print(is_palindrom_reg('А роза упала на лапу Азора'))\n",
    "print(is_palindrom_reg_space('А роза упала на лапу Азора'))\n",
    "print(is_palindrom_reg_space('А роза упала на лапу           Азора'))"
   ]
  }
 ],
 "metadata": {
  "kernelspec": {
   "display_name": "Python 3",
   "language": "python",
   "name": "python3"
  },
  "language_info": {
   "codemirror_mode": {
    "name": "ipython",
    "version": 3
   },
   "file_extension": ".py",
   "mimetype": "text/x-python",
   "name": "python",
   "nbconvert_exporter": "python",
   "pygments_lexer": "ipython3",
   "version": "3.10.12"
  }
 },
 "nbformat": 4,
 "nbformat_minor": 2
}

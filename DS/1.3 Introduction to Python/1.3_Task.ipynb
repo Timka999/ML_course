{
 "cells": [
  {
   "cell_type": "code",
   "execution_count": 30,
   "metadata": {},
   "outputs": [
    {
     "name": "stdout",
     "output_type": "stream",
     "text": [
      "625 100\n"
     ]
    }
   ],
   "source": [
    "# 1. Напишите программу, которая будет выводить на экран площадь квадрата и его периметр. \n",
    "#    Сторона квадрата будет равна 25.\n",
    "\n",
    "print(25**2, 25*4)"
   ]
  },
  {
   "cell_type": "code",
   "execution_count": 31,
   "metadata": {},
   "outputs": [],
   "source": [
    "# 2. Напишите функцию, которая будет принимать два числа и считать сумму квадратов этих двух чисел.\n",
    "#    Запишите своё вычисление в переменную squared.\n",
    "\n",
    "def sum_of_squares(a, b):\n",
    "    return a**2 + b**2\n",
    "\n",
    "number_1 = 4\n",
    "number_2 = 5\n",
    "\n",
    "squared = sum_of_squares(number_1, number_2)\n",
    "# squared"
   ]
  },
  {
   "cell_type": "code",
   "execution_count": 33,
   "metadata": {},
   "outputs": [],
   "source": [
    "# 3. Напишите функцию, которая будет принимать на вход список  \n",
    "#    [“male“,“male“,“female“,“male“,“male“,“female“,”female“] и возвращать его в обратном порядке.\n",
    "#    Запишите список в переменную new_list.\n",
    "\n",
    "def reverse_list(lst: list) -> list:\n",
    "    return lst[::-1]\n",
    "\n",
    "initial_list = ['male', 'male', 'female', 'male', 'male', 'female', 'female']\n",
    "new_list = reverse_list(initial_list)\n",
    "# new_list"
   ]
  },
  {
   "cell_type": "code",
   "execution_count": 34,
   "metadata": {},
   "outputs": [
    {
     "name": "stdout",
     "output_type": "stream",
     "text": [
      "Кол-во мужчин 4, Кол-во женщин 3.\n"
     ]
    }
   ],
   "source": [
    "# 4. Напишите функцию, которая будет принимать на вход список (new_list) и идти по нему в цикле. \n",
    "#    На выходе функция должна вывести на экран: Кол-во мужчин 4, Кол-во женщин 3.\n",
    "\n",
    "def count_sex(lst: list) -> tuple:\n",
    "    counter_male = 0\n",
    "    counter_female = 0\n",
    "    for element in lst:\n",
    "        if element == 'male':\n",
    "            counter_male += 1\n",
    "        elif element == 'female':\n",
    "            counter_female += 1\n",
    "        else:\n",
    "            continue\n",
    "    return counter_male, counter_female\n",
    "\n",
    "result = count_sex(new_list)\n",
    "print(f'Кол-во мужчин {result[0]}, Кол-во женщин {result[1]}.')"
   ]
  },
  {
   "cell_type": "code",
   "execution_count": 35,
   "metadata": {},
   "outputs": [],
   "source": [
    "# 5. Напишите функцию, которая будет принимать строку (Например: “female”), \n",
    "#    а возвращать словарь где ключи — это символы строки, а значения кол-во символов в строке.\n",
    "\n",
    "def letters_dictionary(string: str) -> dict:\n",
    "    letters = set(list(string))\n",
    "    dictionary = dict()\n",
    "    for letter in letters:\n",
    "        dictionary[letter] = string.count(letter)\n",
    "    return dictionary\n",
    "\n",
    "# letters_dictionary('female')"
   ]
  },
  {
   "cell_type": "code",
   "execution_count": 2,
   "metadata": {},
   "outputs": [
    {
     "name": "stdout",
     "output_type": "stream",
     "text": [
      "338350\n"
     ]
    }
   ],
   "source": [
    "# 6. Воспользуйтесь функцией range в Python и выведите на экран сумму квадратов от 1 до 100 (включительно)\n",
    "\n",
    "s = 0\n",
    "for i in range(1, 101):\n",
    "    s += i**2\n",
    "\n",
    "print(s)"
   ]
  },
  {
   "cell_type": "code",
   "execution_count": 37,
   "metadata": {},
   "outputs": [
    {
     "name": "stdout",
     "output_type": "stream",
     "text": [
      "[0, 1, 2, 3, 4, 5]\n"
     ]
    }
   ],
   "source": [
    "# 7. Укажите какой метод добавит значение в конец списка. Приведите пример.\n",
    "# Метод append\n",
    "\n",
    "lst = list()\n",
    "N = 5\n",
    "\n",
    "for i in range(N + 1):\n",
    "    lst.append(i)\n",
    "\n",
    "print(lst)"
   ]
  },
  {
   "cell_type": "code",
   "execution_count": 38,
   "metadata": {},
   "outputs": [
    {
     "data": {
      "text/plain": [
       "['March', 'April', 'May']"
      ]
     },
     "execution_count": 38,
     "metadata": {},
     "output_type": "execute_result"
    }
   ],
   "source": [
    "# 8. Как объединить два списка \"a\" и \"b\" в один новый список \"c\"? Приведите пример.\n",
    "# С помощью операции сложения.\n",
    "\n",
    "a = ['March', 'April']\n",
    "b = ['May']\n",
    "c = a + b\n",
    "c"
   ]
  },
  {
   "cell_type": "code",
   "execution_count": 39,
   "metadata": {},
   "outputs": [
    {
     "name": "stdout",
     "output_type": "stream",
     "text": [
      "[2, 1, 2, 2, 1, 1, 2, 1, 1, 3, 2, 1, 1, 2, 1, 2, 1, 1, 3, 3]\n",
      "3\n"
     ]
    }
   ],
   "source": [
    "# 9. Укажите какой метод посчитает количество значений в списке. Приведите пример.\n",
    "#    Метод count()\n",
    "\n",
    "import random\n",
    "\n",
    "lst = [random.randint(1, 3) for i in range(20)]\n",
    "print(lst)\n",
    "print(lst.count(3))\n"
   ]
  },
  {
   "cell_type": "code",
   "execution_count": 40,
   "metadata": {},
   "outputs": [
    {
     "name": "stdout",
     "output_type": "stream",
     "text": [
      "x больше, либо равен y\n"
     ]
    }
   ],
   "source": [
    "# 10. Исправьте следующий код, так чтобы он отрабатывал правильно.\n",
    "#     Не хватает отступов.\n",
    "\n",
    "x = 2**4\n",
    "y = 4**2\n",
    "if x < y:\n",
    "    print(\"x меньше y\") \n",
    "else: \n",
    "    print(\"x больше, либо равен y\")"
   ]
  }
 ],
 "metadata": {
  "kernelspec": {
   "display_name": "Python 3",
   "language": "python",
   "name": "python3"
  },
  "language_info": {
   "codemirror_mode": {
    "name": "ipython",
    "version": 3
   },
   "file_extension": ".py",
   "mimetype": "text/x-python",
   "name": "python",
   "nbconvert_exporter": "python",
   "pygments_lexer": "ipython3",
   "version": "3.10.12"
  }
 },
 "nbformat": 4,
 "nbformat_minor": 2
}
